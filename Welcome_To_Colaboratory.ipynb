{
  "cells": [
    {
      "cell_type": "markdown",
      "metadata": {
        "id": "view-in-github",
        "colab_type": "text"
      },
      "source": [
        "<a href=\"https://colab.research.google.com/github/sonalisinha9/test/blob/master/Welcome_To_Colaboratory.ipynb\" target=\"_parent\"><img src=\"https://colab.research.google.com/assets/colab-badge.svg\" alt=\"Open In Colab\"/></a>"
      ]
    },
    {
      "cell_type": "code",
      "source": [
        "print(\"hello\")"
      ],
      "metadata": {
        "colab": {
          "base_uri": "https://localhost:8080/"
        },
        "id": "hLL-xc1KBDjq",
        "outputId": "a1d9808f-0cb8-4351-b932-650e2e4bb513"
      },
      "execution_count": 1,
      "outputs": [
        {
          "output_type": "stream",
          "name": "stdout",
          "text": [
            "hello\n"
          ]
        }
      ]
    },
    {
      "cell_type": "code",
      "source": [
        "import csv\n",
        "\n",
        "data = []\n",
        "\n",
        "with open(\"dataset_2.csv\", \"r\") as f:\n",
        "    csvreader = csv.reader(f)\n",
        "    for row in csvreader: \n",
        "        data.append(row)\n",
        "\n",
        "headers = data[0]\n",
        "planet_data = data[1:]\n",
        "\n",
        "#Converting all planet names to lower case\n",
        "for data_point in planet_data:\n",
        "    data_point[2] = data_point[2].lower()\n",
        "\n",
        "#Sorting planet names in alphabetical order\n",
        "planet_data.sort(key=lambda planet_data: planet_data[2])\n",
        "\n",
        "\n",
        "with open(\"dataset_2_sorted.csv\", \"a+\") as f:\n",
        "    csvwriter = csv.writer(f)\n",
        "    csvwriter.writerow(headers)\n",
        "    csvwriter.writerows(planet_data)\n",
        "\n",
        "\n"
      ],
      "metadata": {
        "id": "OkMG9GbPBGCW"
      },
      "execution_count": 3,
      "outputs": []
    },
    {
      "cell_type": "code",
      "source": [
        ""
      ],
      "metadata": {
        "id": "-ayfbFIgBSsb"
      },
      "execution_count": null,
      "outputs": []
    }
  ],
  "metadata": {
    "colab": {
      "collapsed_sections": [],
      "name": "Welcome To Colaboratory",
      "provenance": [],
      "include_colab_link": true
    },
    "kernelspec": {
      "display_name": "Python 3",
      "name": "python3"
    }
  },
  "nbformat": 4,
  "nbformat_minor": 0
}